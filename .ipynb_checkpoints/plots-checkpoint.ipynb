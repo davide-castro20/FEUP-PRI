{
 "cells": [
  {
   "cell_type": "markdown",
   "metadata": {},
   "source": [
    "# Steam App Details Dataset"
   ]
  },
  {
   "cell_type": "code",
   "execution_count": null,
   "metadata": {},
   "outputs": [],
   "source": [
    "from datetime import date\n",
    "import numpy as np\n",
    "import pandas as pd\n",
    "import matplotlib.pyplot as plt\n",
    "import seaborn as sb\n",
    "import re\n",
    "import json\n",
    "import ast\n",
    "import time"
   ]
  },
  {
   "cell_type": "code",
   "execution_count": null,
   "metadata": {},
   "outputs": [],
   "source": [
    "df_steam = pd.read_csv('./clean_datasets/steam.csv', index_col=0, dayfirst=True, parse_dates=['release_date'])\n",
    "df_steam_tags = pd.read_csv('./clean_datasets/steamspy_tag_data.csv', index_col=0)\n",
    "df_steam_requirements = pd.read_csv('./clean_datasets/steam_requirements_data.csv', index_col=0)\n",
    "df_steam_descriptions = pd.read_csv('./clean_datasets/steam_description_data.csv', index_col=0)\n",
    "df_steam_support = pd.read_csv('./clean_datasets/steam_support_info.csv', index_col=0)\n",
    "df_steam_achievements = pd.read_csv('./clean_datasets/steam_achievements.csv')\n",
    "df_steam_categories = pd.read_csv('./clean_datasets/steam_categories.csv')\n",
    "df_steam_developers = pd.read_csv('./clean_datasets/steam_developers.csv')"
   ]
  },
  {
   "cell_type": "code",
   "execution_count": null,
   "metadata": {},
   "outputs": [],
   "source": [
    "df_steam.head()"
   ]
  },
  {
   "cell_type": "code",
   "execution_count": null,
   "metadata": {},
   "outputs": [],
   "source": [
    "plt.figure(figsize=(8, 8))\n",
    "\n",
    "df_plats = df_steam.drop(columns=['name', 'release_date', 'english', 'publisher', 'required_age', 'positive_ratings', 'negative_ratings', 'average_playtime', 'median_playtime', 'owners_range', 'price'])\n",
    "\n",
    "df2 = df_plats.melt(value_vars=df_plats.columns)\n",
    "df2 = df2[df2[\"value\"] != False]\n",
    "plats_plot = sb.countplot(data=df2, x=\"variable\")\n",
    "plats_plot.set(xlabel='Platform supported', ylabel='App count')\n",
    "\n",
    "total = len(df_plats['windows'])\n",
    "\n",
    "patchWindows = plats_plot.patches[0]\n",
    "percentage = '{:.1f}%'.format(100 * patchWindows.get_height() / total)\n",
    "x = patchWindows.get_x() + patchWindows.get_width() + 0.02\n",
    "y = patchWindows.get_y() + patchWindows.get_height() / 2\n",
    "plats_plot.annotate(percentage, (x, y))\n",
    "\n",
    "patchLinux = plats_plot.patches[1]\n",
    "percentage = '{:.1f}%'.format(100 * patchLinux.get_height() / total)\n",
    "x = patchLinux.get_x() + patchLinux.get_width() / 2 - 0.08\n",
    "y = patchLinux.get_y() + patchLinux.get_height() * 1.05\n",
    "plats_plot.annotate(percentage, (x, y))\n",
    "\n",
    "patchMac = plats_plot.patches[2]\n",
    "percentage = '{:.1f}%'.format(100 * patchMac.get_height() / total)\n",
    "x = patchMac.get_x() + patchMac.get_width() / 2 - 0.08\n",
    "y = patchMac.get_y() + patchMac.get_height() * 1.05\n",
    "plats_plot.annotate(percentage, (x, y))\n",
    "\n",
    "plt.show()"
   ]
  },
  {
   "cell_type": "code",
   "execution_count": null,
   "metadata": {},
   "outputs": [],
   "source": [
    "plt.figure(figsize=(50, 8))\n",
    "\n",
    "total = len(df_steam_categories['appid'])\n",
    "df_categories = df_steam_categories.drop(columns=['appid'])\n",
    "\n",
    "df2 = df_categories.melt(value_vars=df_categories.columns)\n",
    "df2 = df2[df2[\"value\"] != False]\n",
    "plats_plot = sb.countplot(data=df2, x=\"variable\")\n",
    "plats_plot.set(xlabel='Categories', ylabel='App count')\n",
    "    \n",
    "plt.show()"
   ]
  },
  {
   "cell_type": "code",
   "execution_count": null,
   "metadata": {},
   "outputs": [],
   "source": [
    "prices1 = sb.displot(df_steam, x=\"price\", multiple=\"stack\", aspect=2)\n",
    "plt.xlim(0,30)\n",
    "prices1.set(xlabel='App Price', ylabel='App Count')"
   ]
  },
  {
   "cell_type": "code",
   "execution_count": null,
   "metadata": {},
   "outputs": [],
   "source": [
    "prices2 = sb.displot(df_steam, x=\"price\", multiple=\"stack\", aspect=2)\n",
    "plt.xlim(30,80)\n",
    "plt.ylim(0,100)\n",
    "prices2.set(xlabel='App Price', ylabel='App Count')"
   ]
  },
  {
   "cell_type": "code",
   "execution_count": null,
   "metadata": {},
   "outputs": [],
   "source": [
    "achiev_percent = sb.displot(df_steam_achievements, x=\"percent\", multiple=\"stack\", aspect=2)\n",
    "achiev_percent.set(xlabel='Percentage of Users', ylabel='Achievement count')"
   ]
  },
  {
   "cell_type": "code",
   "execution_count": null,
   "metadata": {},
   "outputs": [],
   "source": [
    "number_achievements = pd.DataFrame({'n_achiev': []})\n",
    "number_achievements['n_achiev'] = df_steam_categories['appid'].apply(lambda x: (df_steam_achievements['appid'] == x).sum())"
   ]
  },
  {
   "cell_type": "code",
   "execution_count": null,
   "metadata": {},
   "outputs": [],
   "source": [
    "achiev_percent = sb.displot(number_achievements, x=\"n_achiev\", multiple=\"stack\", aspect=3)\n",
    "achiev_percent.set(xlabel='Number of Achievements', ylabel='App count')\n",
    "plt.xlim(1,100)\n",
    "plt.ylim(0,3000)\n",
    "plt.show()"
   ]
  },
  {
   "cell_type": "code",
   "execution_count": null,
   "metadata": {},
   "outputs": [],
   "source": [
    "df_steam['release_date'] = pd.to_datetime(df_steam['release_date']).dt.strftime('%d/%m/%Y')"
   ]
  },
  {
   "cell_type": "code",
   "execution_count": null,
   "metadata": {},
   "outputs": [],
   "source": [
    "df_steam.head()"
   ]
  },
  {
   "cell_type": "code",
   "execution_count": null,
   "metadata": {},
   "outputs": [],
   "source": [
    "unique_years = np.sort(df_steam['release_date'].dt.year.unique())\n",
    "averages = []\n",
    "\n",
    "for year in unique_years:\n",
    "    average = 0\n",
    "    rows = df_steam[(df_steam['release_date'].dt.year == year) & (df_steam['price'] != 0)]['price']\n",
    "    average += rows.sum()\n",
    "    average /= len(rows)\n",
    "    averages.append(average)\n",
    "\n",
    "plt.figure(figsize=(10, 5))\n",
    "plt.plot(unique_years, averages)\n",
    "plt.title('Average App Price per Year')\n",
    "plt.xlabel('Year')\n",
    "plt.ylabel('Average price')\n",
    "plt.show()"
   ]
  },
  {
   "cell_type": "code",
   "execution_count": null,
   "metadata": {},
   "outputs": [],
   "source": [
    "review_diffs = df_steam['positive_ratings'] - df_steam['negative_ratings']\n",
    "\n",
    "plt.figure(figsize=(10, 7))\n",
    "plt.scatter(df_steam['average_playtime'], review_diffs)\n",
    "plt.xlim(0, 20000)\n",
    "plt.ylim(-15000,100000)\n",
    "plt.title('Positive-Negative Ratings vs Average Playtime')\n",
    "plt.xlabel('Average Playtime')\n",
    "plt.ylabel('Positive-Negative Ratings')\n",
    "plt.show()"
   ]
  },
  {
   "cell_type": "code",
   "execution_count": null,
   "metadata": {},
   "outputs": [],
   "source": []
  },
  {
   "cell_type": "code",
   "execution_count": null,
   "metadata": {},
   "outputs": [],
   "source": []
  },
  {
   "cell_type": "code",
   "execution_count": null,
   "metadata": {},
   "outputs": [],
   "source": []
  }
 ],
 "metadata": {
  "kernelspec": {
   "display_name": "Python 3",
   "language": "python",
   "name": "python3"
  },
  "language_info": {
   "codemirror_mode": {
    "name": "ipython",
    "version": 3
   },
   "file_extension": ".py",
   "mimetype": "text/x-python",
   "name": "python",
   "nbconvert_exporter": "python",
   "pygments_lexer": "ipython3",
   "version": "3.8.5"
  }
 },
 "nbformat": 4,
 "nbformat_minor": 4
}
