{
 "cells": [
  {
   "cell_type": "code",
   "execution_count": 24,
   "metadata": {},
   "outputs": [],
   "source": [
    "import pandas as pd\n",
    "import numpy as np"
   ]
  },
  {
   "cell_type": "code",
   "execution_count": 25,
   "metadata": {},
   "outputs": [],
   "source": [
    "df_devs = pd.read_csv('clean_datasets/steam_developers.csv')\n",
    "df_pubs = pd.read_csv('clean_datasets/steam_publishers.csv')\n",
    "df_category = pd.read_csv('clean_datasets/steam_categories.csv')\n",
    "df_steam_descriptions = pd.read_csv('clean_datasets/steam_description_data.csv')\n",
    "df_steam = pd.read_csv('clean_datasets/steam.csv')\n",
    "df_genres = pd.read_csv('clean_datasets/steam_genres.csv')\n",
    "df_steam_requirements = pd.read_csv('clean_datasets/steam_requirements_data.csv')\n",
    "df_steam_tags = pd.read_csv('clean_datasets/steamspy_tag_data.csv')\n",
    "df_steam_achievements = pd.read_csv('clean_datasets/steam_achievements.csv')\n",
    "df_steam_support = pd.read_csv('clean_datasets/steam_support.csv')"
   ]
  },
  {
   "cell_type": "code",
   "execution_count": 26,
   "metadata": {},
   "outputs": [],
   "source": [
    "def group_into_lists(df, group, column):\n",
    "    return df.groupby(group)[column].apply(list)"
   ]
  },
  {
   "cell_type": "code",
   "execution_count": 27,
   "metadata": {},
   "outputs": [],
   "source": [
    "df_steam_json = df_steam\n",
    "\n",
    "# group devs and publishers into lists\n",
    "df_devs_lists = group_into_lists(df_devs, \"appid\", \"developer\")\n",
    "df_steam_json = pd.merge(df_steam_json, df_devs_lists, on=\"appid\", how=\"left\")\n",
    "\n",
    "df_pubs_lists = group_into_lists(df_pubs, \"appid\", \"publisher\")\n",
    "df_steam_json = pd.merge(df_steam_json, df_pubs_lists, on=\"appid\", how=\"left\")\n",
    "\n",
    "df_steam_json = df_steam_json.rename(columns={\"developer\":\"developers\", \"publisher\":\"publishers\"})"
   ]
  },
  {
   "cell_type": "code",
   "execution_count": 28,
   "metadata": {},
   "outputs": [],
   "source": [
    "# group genres and categories into lists\n",
    "df_steam_json['genres'] = df_genres.apply(lambda x: list(x.index[x == True]), axis=1)\n",
    "df_steam_json['categories'] = df_category.apply(lambda x: list(x.index[x == True]), axis=1)"
   ]
  },
  {
   "cell_type": "code",
   "execution_count": null,
   "metadata": {},
   "outputs": [],
   "source": [
    "# join descriptions\n",
    "df_steam_descriptions = df_steam_descriptions.rename(columns={\"steam_appid\":\"appid\"})\n",
    "df_steam_json = pd.merge(df_steam_json, df_steam_descriptions, on=\"appid\", how=\"left\")"
   ]
  },
  {
   "cell_type": "code",
   "execution_count": null,
   "metadata": {},
   "outputs": [],
   "source": [
    "# Writing data to json file\n",
    "\n",
    "f = open(\"solr_datasets/steam.json\", \"w\")\n",
    "\n",
    "f.write(\"[\")\n",
    "for row in df_steam_json.iterrows():\n",
    "    row[1].to_json(f)\n",
    "    if not row[0] == len(df_steam_json) - 1:\n",
    "        f.write(\",\")\n",
    "    f.write(\"\\n\")\n",
    "\n",
    "f.write(\"]\")\n",
    "f.close()"
   ]
  },
  {
   "cell_type": "code",
   "execution_count": null,
   "metadata": {},
   "outputs": [],
   "source": [
    "#df_steam_json.to_json(\"solr_datasets/steam.json\", orient=\"records\", lines=True)"
   ]
  }
 ],
 "metadata": {
  "interpreter": {
   "hash": "52ae6cb2d8e16d204cf1e133a9fa9f01c601dce1c2c301a1c7cf3bfef1210e10"
  },
  "kernelspec": {
   "display_name": "Python 3.8.12 64-bit ('base': conda)",
   "language": "python",
   "name": "python3"
  },
  "language_info": {
   "codemirror_mode": {
    "name": "ipython",
    "version": 3
   },
   "file_extension": ".py",
   "mimetype": "text/x-python",
   "name": "python",
   "nbconvert_exporter": "python",
   "pygments_lexer": "ipython3",
   "version": "3.8.12"
  },
  "orig_nbformat": 4
 },
 "nbformat": 4,
 "nbformat_minor": 2
}
