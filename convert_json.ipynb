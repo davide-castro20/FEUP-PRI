{
 "cells": [
  {
   "cell_type": "code",
   "execution_count": 55,
   "metadata": {},
   "outputs": [],
   "source": [
    "import pandas as pd\n",
    "import json\n",
    "import numpy as np"
   ]
  },
  {
   "cell_type": "code",
   "execution_count": 56,
   "metadata": {},
   "outputs": [],
   "source": [
    "df_devs = pd.read_csv('clean_datasets/steam_developers.csv') #done\n",
    "df_pubs = pd.read_csv('clean_datasets/steam_publishers.csv') #done\n",
    "df_category = pd.read_csv('clean_datasets/steam_categories.csv') #done\n",
    "df_steam_descriptions = pd.read_csv('clean_datasets/steam_description_data.csv') #done\n",
    "df_steam = pd.read_csv('clean_datasets/steam.csv') #done\n",
    "df_genres = pd.read_csv('clean_datasets/steam_genres.csv') #done\n",
    "df_steam_requirements = pd.read_csv('clean_datasets/steam_requirements_data.csv') #done\n",
    "df_steam_tags = pd.read_csv('clean_datasets/steamspy_tag_data.csv') #done\n",
    "df_steam_achievements = pd.read_csv('clean_datasets/steam_achievements.csv') #done\n",
    "df_steam_support = pd.read_csv('clean_datasets/steam_support.csv') #done"
   ]
  },
  {
   "cell_type": "code",
   "execution_count": 57,
   "metadata": {},
   "outputs": [],
   "source": [
    "def group_into_lists(df, group, column):\n",
    "    return df.groupby(group)[column].apply(list)"
   ]
  },
  {
   "cell_type": "code",
   "execution_count": 58,
   "metadata": {},
   "outputs": [],
   "source": [
    "df_steam_json = df_steam\n",
    "\n",
    "# group devs and publishers into lists\n",
    "df_devs_lists = group_into_lists(df_devs, \"appid\", \"developer\")\n",
    "df_steam_json = pd.merge(df_steam_json, df_devs_lists, on=\"appid\", how=\"left\")\n",
    "\n",
    "df_pubs_lists = group_into_lists(df_pubs, \"appid\", \"publisher\")\n",
    "df_steam_json = pd.merge(df_steam_json, df_pubs_lists, on=\"appid\", how=\"left\")\n",
    "\n",
    "df_steam_json = df_steam_json.rename(columns={\"developer\":\"developers\", \"publisher\":\"publishers\"})"
   ]
  },
  {
   "cell_type": "code",
   "execution_count": 59,
   "metadata": {},
   "outputs": [],
   "source": [
    "# group genres and categories into lists\n",
    "df_steam_json['genres'] = df_genres.apply(lambda x: list(x.index[x == True]), axis=1)\n",
    "df_steam_json['categories'] = df_category.apply(lambda x: list(x.index[x == True]), axis=1)"
   ]
  },
  {
   "cell_type": "code",
   "execution_count": 60,
   "metadata": {},
   "outputs": [],
   "source": [
    "# join descriptions\n",
    "df_steam_descriptions = df_steam_descriptions.rename(columns={\"steam_appid\":\"appid\"})\n",
    "df_steam_json = pd.merge(df_steam_json, df_steam_descriptions, on=\"appid\", how=\"left\")"
   ]
  },
  {
   "cell_type": "code",
   "execution_count": 61,
   "metadata": {},
   "outputs": [],
   "source": [
    "# join requirements\n",
    "df_steam_requirements = df_steam_requirements.rename(columns={\"steam_appid\":\"appid\"})\n",
    "df_steam_json = df_steam_json.merge(df_steam_requirements, on=\"appid\", how=\"left\")"
   ]
  },
  {
   "cell_type": "code",
   "execution_count": 62,
   "metadata": {},
   "outputs": [],
   "source": [
    "# join support\n",
    "df_steam_support = df_steam_support.rename(columns={\"steam_appid\":\"appid\"})\n",
    "df_steam_json = df_steam_json.merge(df_steam_support, on=\"appid\", how=\"left\")"
   ]
  },
  {
   "cell_type": "code",
   "execution_count": 63,
   "metadata": {},
   "outputs": [],
   "source": [
    "# Writing data to json file\n",
    "\n",
    "f = open(\"solr_datasets/steam.json\", \"w\")\n",
    "\n",
    "f.write(\"[\")\n",
    "for row in df_steam_json.iterrows():\n",
    "    row[1].to_json(f)\n",
    "    if not row[0] == len(df_steam_json) - 1:\n",
    "        f.write(\",\")\n",
    "    f.write(\"\\n\")\n",
    "\n",
    "f.write(\"]\")\n",
    "f.close()"
   ]
  },
  {
   "cell_type": "code",
   "execution_count": 64,
   "metadata": {},
   "outputs": [],
   "source": [
    "f = open(\"solr_datasets/steam.json\")\n",
    "steam_json = json.load(f)\n",
    "f.close()"
   ]
  },
  {
   "cell_type": "code",
   "execution_count": 65,
   "metadata": {},
   "outputs": [],
   "source": [
    "for game in steam_json:\n",
    "    pd_game_tag = df_steam_tags[df_steam_tags[\"appid\"] == game[\"appid\"]]\n",
    "    pd_game_tag = pd_game_tag.drop(columns=pd_game_tag.columns[(pd_game_tag==0).any()])\n",
    "    game[\"_tags_\"] = json.loads(pd_game_tag.iloc[0].to_json())\n",
    "\n"
   ]
  },
  {
   "cell_type": "code",
   "execution_count": 67,
   "metadata": {},
   "outputs": [],
   "source": [
    "for game in steam_json:\n",
    "    achievements = []\n",
    "    pd_game_achievements = df_steam_achievements[df_steam_achievements[\"appid\"] == game[\"appid\"]]\n",
    "    pd_game_achievements = pd_game_achievements.drop(columns=['appid'])\n",
    "\n",
    "    for row in pd_game_achievements.iterrows():\n",
    "        achievements.append(json.loads(row[1].to_json()))\n",
    "\n",
    "    if not pd_game_achievements.empty:\n",
    "        game[\"achievements\"] = achievements\n",
    "    else:\n",
    "        game[\"achievements\"] = []"
   ]
  },
  {
   "cell_type": "code",
   "execution_count": 68,
   "metadata": {},
   "outputs": [],
   "source": [
    "f1 = open(\"solr_datasets/steam1.json\", \"w\")\n",
    "f2 = open(\"solr_datasets/steam2.json\", \"w\")\n",
    "\n",
    "json.dump(steam_json[:int(len(steam_json)/2)],f1)\n",
    "json.dump(steam_json[int(len(steam_json)/2):],f2)\n",
    "\n",
    "f1.close()\n",
    "f2.close()"
   ]
  }
 ],
 "metadata": {
  "interpreter": {
   "hash": "52ae6cb2d8e16d204cf1e133a9fa9f01c601dce1c2c301a1c7cf3bfef1210e10"
  },
  "kernelspec": {
   "display_name": "Python 3.8.12 64-bit ('base': conda)",
   "language": "python",
   "name": "python3"
  },
  "language_info": {
   "codemirror_mode": {
    "name": "ipython",
    "version": 3
   },
   "file_extension": ".py",
   "mimetype": "text/x-python",
   "name": "python",
   "nbconvert_exporter": "python",
   "pygments_lexer": "ipython3",
   "version": "3.9.4"
  },
  "orig_nbformat": 4
 },
 "nbformat": 4,
 "nbformat_minor": 2
}
