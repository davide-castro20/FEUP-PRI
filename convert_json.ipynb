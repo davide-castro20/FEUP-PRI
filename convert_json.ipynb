{
 "cells": [
  {
   "cell_type": "code",
   "execution_count": 1,
   "metadata": {},
   "outputs": [],
   "source": [
    "import pandas as pd\n",
    "import json\n",
    "import numpy as np"
   ]
  },
  {
   "cell_type": "code",
   "execution_count": 2,
   "metadata": {},
   "outputs": [],
   "source": [
    "df_devs = pd.read_csv('clean_datasets/steam_developers.csv') #done\n",
    "df_pubs = pd.read_csv('clean_datasets/steam_publishers.csv') #done\n",
    "df_category = pd.read_csv('clean_datasets/steam_categories.csv') #done\n",
    "df_steam_descriptions = pd.read_csv('clean_datasets/steam_description_data.csv') #done\n",
    "df_steam = pd.read_csv('clean_datasets/steam.csv') #done\n",
    "df_genres = pd.read_csv('clean_datasets/steam_genres.csv') #done\n",
    "df_steam_requirements = pd.read_csv('clean_datasets/steam_requirements_data.csv') #done\n",
    "df_steam_tags = pd.read_csv('clean_datasets/steamspy_tag_data.csv') #done\n",
    "df_steam_achievements = pd.read_csv('clean_datasets/steam_achievements.csv') #done\n",
    "df_steam_support = pd.read_csv('clean_datasets/steam_support.csv') #done"
   ]
  },
  {
   "cell_type": "code",
   "execution_count": 3,
   "metadata": {},
   "outputs": [],
   "source": [
    "def group_into_lists(df, group, column):\n",
    "    return df.groupby(group)[column].apply(list)"
   ]
  },
  {
   "cell_type": "code",
   "execution_count": 4,
   "metadata": {},
   "outputs": [],
   "source": [
    "df_steam_json = df_steam\n",
    "\n",
    "# group devs and publishers into lists\n",
    "df_devs_lists = group_into_lists(df_devs, \"appid\", \"developer\")\n",
    "df_steam_json = pd.merge(df_steam_json, df_devs_lists, on=\"appid\", how=\"left\")\n",
    "\n",
    "df_pubs_lists = group_into_lists(df_pubs, \"appid\", \"publisher\")\n",
    "df_steam_json = pd.merge(df_steam_json, df_pubs_lists, on=\"appid\", how=\"left\")\n",
    "\n",
    "df_steam_json = df_steam_json.rename(columns={\"developer\":\"developers\", \"publisher\":\"publishers\"})"
   ]
  },
  {
   "cell_type": "code",
   "execution_count": 5,
   "metadata": {},
   "outputs": [],
   "source": [
    "# group genres and categories into lists\n",
    "df_steam_json['genres'] = df_genres.apply(lambda x: list(x.index[x == True]), axis=1)\n",
    "df_steam_json['categories'] = df_category.apply(lambda x: list(x.index[x == True]), axis=1)"
   ]
  },
  {
   "cell_type": "code",
   "execution_count": 6,
   "metadata": {},
   "outputs": [],
   "source": [
    "# join descriptions\n",
    "df_steam_descriptions = df_steam_descriptions.rename(columns={\"steam_appid\":\"appid\"})\n",
    "df_steam_json = pd.merge(df_steam_json, df_steam_descriptions, on=\"appid\", how=\"left\")"
   ]
  },
  {
   "cell_type": "code",
   "execution_count": 7,
   "metadata": {},
   "outputs": [],
   "source": [
    "# join requirements\n",
    "df_steam_requirements = df_steam_requirements.rename(columns={\"steam_appid\":\"appid\"})\n",
    "df_steam_json = df_steam_json.merge(df_steam_requirements, on=\"appid\", how=\"left\")"
   ]
  },
  {
   "cell_type": "code",
   "execution_count": 8,
   "metadata": {},
   "outputs": [],
   "source": [
    "# join support\n",
    "df_steam_support = df_steam_support.rename(columns={\"steam_appid\":\"appid\"})\n",
    "df_steam_json = df_steam_json.merge(df_steam_support, on=\"appid\", how=\"left\")"
   ]
  },
  {
   "cell_type": "code",
   "execution_count": 9,
   "metadata": {},
   "outputs": [],
   "source": [
    "# Writing data to json file\n",
    "\n",
    "f = open(\"solr_datasets/steam.json\", \"w\")\n",
    "\n",
    "f.write(\"[\")\n",
    "for row in df_steam_json.iterrows():\n",
    "    row[1].to_json(f)\n",
    "    if not row[0] == len(df_steam_json) - 1:\n",
    "        f.write(\",\")\n",
    "    f.write(\"\\n\")\n",
    "\n",
    "f.write(\"]\")\n",
    "f.close()"
   ]
  },
  {
   "cell_type": "code",
   "execution_count": 10,
   "metadata": {},
   "outputs": [],
   "source": [
    "f = open(\"solr_datasets/steam.json\")\n",
    "steam_json = json.load(f)\n",
    "f.close()"
   ]
  },
  {
   "cell_type": "code",
   "execution_count": 11,
   "metadata": {},
   "outputs": [],
   "source": [
    "for game in steam_json:\n",
    "    pd_game_tag = df_steam_tags[df_steam_tags[\"appid\"] == game[\"appid\"]]\n",
    "    pd_game_tag = pd_game_tag.drop(columns=pd_game_tag.columns[(pd_game_tag==0).any()])\n",
    "    game[\"_tags_\"] = json.loads(pd_game_tag.iloc[0].to_json())\n",
    "\n"
   ]
  },
  {
   "cell_type": "code",
   "execution_count": 13,
   "metadata": {},
   "outputs": [],
   "source": [
    "for game in steam_json:\n",
    "    achievements = []\n",
    "    pd_game_achievements = df_steam_achievements[df_steam_achievements[\"appid\"] == game[\"appid\"]]\n",
    "    pd_game_achievements = pd_game_achievements.drop(columns=['appid'])\n",
    "\n",
    "    for row in pd_game_achievements.iterrows():\n",
    "        achievements.append(json.loads(row[1].to_json()))\n",
    "\n",
    "    if not pd_game_achievements.empty:\n",
    "        game[\"achievements\"] = achievements\n",
    "    else:\n",
    "        game[\"achievements\"] = []"
   ]
  },
  {
   "cell_type": "code",
   "execution_count": 14,
   "metadata": {},
   "outputs": [
    {
     "name": "stdout",
     "output_type": "stream",
     "text": [
      "{'appid': 10, 'name': 'Counter-Strike', 'release_date': '01/11/2000', 'english': True, 'required_age': 0, 'positive_ratings': 124534, 'negative_ratings': 3339, 'average_playtime': 17612, 'median_playtime': 317, 'price': 7.19, 'owners_range': '[10000000, 20000000]', 'windows': True, 'linux': True, 'mac': True, 'developers': ['Valve'], 'publishers': ['Valve'], 'genres': ['Action'], 'categories': ['Multi-player', 'Online Multi-Player', 'Local Multi-Player', 'Valve Anti-Cheat enabled'], 'detailed_description': \"Play the world's number 1 online action game. Engage in an incredibly realistic brand of terrorist warfare in this wildly popular team-based game. Ally with teammates to complete strategic missions. Take out enemy sites. Rescue hostages. Your role affects your team's success. Your team's success affects your role.\", 'about_the_game': \"Play the world's number 1 online action game. Engage in an incredibly realistic brand of terrorist warfare in this wildly popular team-based game. Ally with teammates to complete strategic missions. Take out enemy sites. Rescue hostages. Your role affects your team's success. Your team's success affects your role.\", 'short_description': \"Play the world's number 1 online action game. Engage in an incredibly realistic brand of terrorist warfare in this wildly popular team-based game. Ally with teammates to complete strategic missions. Take out enemy sites. Rescue hostages. Your role affects your team's success. Your team's success affects your role.\", 'pc_minimum': '500 mhz processor, 96mb ram, 16mb video card, Windows XP, Mouse, Keyboard, Internet Connection', 'pc_recommended': ' 800 mhz processor, 128mb ram, 32mb+ video card, Windows XP, Mouse, Keyboard, Internet Connection', 'mac_minimum': 'OS X  Snow Leopard 10.6.3, 1GB RAM, 4GB Hard Drive Space,NVIDIA GeForce 8 or higher, ATI X1600 or higher, or Intel HD 3000 or higher Mouse, Keyboard, Internet Connection', 'mac_recommended': None, 'linux_minimum': 'Linux Ubuntu 12.04, Dual-core from Intel or AMD at 2.8 GHz, 1GB Memory, nVidia GeForce 8600/9600GT, ATI/AMD Radeaon HD2600/3600 (Graphic Drivers: nVidia 310, AMD 12.11), OpenGL 2.1, 4GB Hard Drive Space, OpenAL Compatible Sound Card', 'linux_recommended': None, 'website': None, 'support_url': 'http://steamcommunity.com/app/10', 'support_email': None, '_tags_': {'appid': 10, '1980s': 144, '1990s': 564, 'action': 2681, 'assassin': 151, 'classic': 1344, 'competitive': 790, 'fps': 2048, 'first_person': 799, 'military': 367, 'multiplayer': 1659, 'old_school': 164, 'pvp': 480, 'score_attack': 200, 'shooter': 1420, 'strategy': 329, 'survival': 192, 'tactical': 734, 'team_based': 943, 'violent': 40, 'e_sports': 550}, 'achievements': []}\n"
     ]
    }
   ],
   "source": [
    "print(steam_json[0])"
   ]
  },
  {
   "cell_type": "code",
   "execution_count": 16,
   "metadata": {},
   "outputs": [],
   "source": [
    "f1 = open(\"solr_datasets/steam1.json\", \"w\")\n",
    "f2 = open(\"solr_datasets/steam2.json\", \"w\")\n",
    "\n",
    "for game in steam_json[:int(len(steam_json)/2)]:\n",
    "    f1.write(json.dumps(game) + \"\\n\")\n",
    "\n",
    "for game in steam_json[int(len(steam_json)/2):]:\n",
    "    f2.write(json.dumps(game) + \"\\n\")\n",
    "\n",
    "# json.dump(steam_json[:int(len(steam_json)/2)],f1)\n",
    "# json.dump(steam_json[int(len(steam_json)/2):],f2)\n",
    "\n",
    "f1.close()\n",
    "f2.close()"
   ]
  },
  {
   "cell_type": "code",
   "execution_count": 27,
   "metadata": {},
   "outputs": [],
   "source": [
    "f3 = open(\"elastic_datasets/steam1.json\", \"w\")\n",
    "f4 = open(\"elastic_datasets/steam2.json\", \"w\")\n",
    "\n",
    "i = 1\n",
    "for doc in steam_json[:int(len(steam_json)/2)]:\n",
    "    f3.write(\"{ \\\"index\\\" : { \\\"_index\\\" : \\\"games_test\\\", \\\"_id\\\" : \\\"\" + str(i) + \"\\\" } }\" + \"\\n\")\n",
    "    f3.write(json.dumps(doc) + \"\\n\")\n",
    "    i = i + 1\n",
    "\n",
    "for doc in steam_json[int(len(steam_json)/2):]:\n",
    "    f4.write(\"{ \\\"index\\\" : { \\\"_index\\\" : \\\"games_test\\\", \\\"_id\\\" : \\\"\" + str(i) + \"\\\" } }\")\n",
    "    f4.write(json.dumps(doc) + \"\\n\")\n",
    "    i = i + 1\n",
    "\n",
    "\n"
   ]
  },
  {
   "cell_type": "code",
   "execution_count": 21,
   "metadata": {},
   "outputs": [],
   "source": [
    "import json\n",
    "from elasticsearch import Elasticsearch\n",
    "\n",
    "es = Elasticsearch([{'host': 'localhost', 'port': 9200}])\n",
    "i = 0\n",
    "#with open('solr_datasets/steam1_copy.json') as steam_json_copy:\n",
    "\n",
    "for json_doc in steam_json:\n",
    "        i = i + 1\n",
    "        es.index(index='games', doc_type='games', id=i, body=json.dumps(json_doc))\n",
    "\n"
   ]
  }
 ],
 "metadata": {
  "interpreter": {
   "hash": "52ae6cb2d8e16d204cf1e133a9fa9f01c601dce1c2c301a1c7cf3bfef1210e10"
  },
  "kernelspec": {
   "display_name": "Python 3.8.12 64-bit ('base': conda)",
   "language": "python",
   "name": "python3"
  },
  "language_info": {
   "codemirror_mode": {
    "name": "ipython",
    "version": 3
   },
   "file_extension": ".py",
   "mimetype": "text/x-python",
   "name": "python",
   "nbconvert_exporter": "python",
   "pygments_lexer": "ipython3",
   "version": "3.8.12"
  },
  "orig_nbformat": 4
 },
 "nbformat": 4,
 "nbformat_minor": 2
}
